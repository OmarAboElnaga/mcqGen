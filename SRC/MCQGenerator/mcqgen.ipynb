{
 "cells": [
  {
   "cell_type": "code",
   "execution_count": 1,
   "metadata": {},
   "outputs": [],
   "source": [
    "import langchain\n",
    "import os\n",
    "import json\n",
    "import pandas as pd\n",
    "import traceback"
   ]
  },
  {
   "cell_type": "code",
   "execution_count": 2,
   "metadata": {},
   "outputs": [],
   "source": [
    "from langchain.llms import OpenAI\n",
    "from langchain.prompts import PromptTemplate\n",
    "from langchain.chains import LLMChain\n",
    "from langchain.chains import SequentialChain\n",
    "from langchain.callbacks import get_openai_callback\n",
    "import PyPDF2 "
   ]
  },
  {
   "cell_type": "code",
   "execution_count": 3,
   "metadata": {},
   "outputs": [
    {
     "name": "stdout",
     "output_type": "stream",
     "text": [
      "Requirement already satisfied: langchain_community in c:\\university\\nlp course\\mcqgen\\env\\lib\\site-packages (0.2.19)\n",
      "Requirement already satisfied: PyYAML>=5.3 in c:\\university\\nlp course\\mcqgen\\env\\lib\\site-packages (from langchain_community) (6.0.2)\n",
      "Requirement already satisfied: SQLAlchemy<3,>=1.4 in c:\\university\\nlp course\\mcqgen\\env\\lib\\site-packages (from langchain_community) (2.0.36)\n",
      "Requirement already satisfied: aiohttp<4.0.0,>=3.8.3 in c:\\university\\nlp course\\mcqgen\\env\\lib\\site-packages (from langchain_community) (3.10.11)\n",
      "Requirement already satisfied: dataclasses-json<0.7,>=0.5.7 in c:\\university\\nlp course\\mcqgen\\env\\lib\\site-packages (from langchain_community) (0.6.7)\n",
      "Requirement already satisfied: langchain<0.3.0,>=0.2.17 in c:\\university\\nlp course\\mcqgen\\env\\lib\\site-packages (from langchain_community) (0.2.17)\n",
      "Requirement already satisfied: langchain-core<0.3.0,>=0.2.43 in c:\\university\\nlp course\\mcqgen\\env\\lib\\site-packages (from langchain_community) (0.2.43)\n",
      "Requirement already satisfied: langsmith<0.2.0,>=0.1.112 in c:\\university\\nlp course\\mcqgen\\env\\lib\\site-packages (from langchain_community) (0.1.147)\n",
      "Requirement already satisfied: numpy<2,>=1 in c:\\university\\nlp course\\mcqgen\\env\\lib\\site-packages (from langchain_community) (1.24.4)\n",
      "Requirement already satisfied: requests<3,>=2 in c:\\university\\nlp course\\mcqgen\\env\\lib\\site-packages (from langchain_community) (2.32.3)\n",
      "Requirement already satisfied: tenacity!=8.4.0,<9.0.0,>=8.1.0 in c:\\university\\nlp course\\mcqgen\\env\\lib\\site-packages (from langchain_community) (8.5.0)\n",
      "Requirement already satisfied: aiohappyeyeballs>=2.3.0 in c:\\university\\nlp course\\mcqgen\\env\\lib\\site-packages (from aiohttp<4.0.0,>=3.8.3->langchain_community) (2.4.4)\n",
      "Requirement already satisfied: aiosignal>=1.1.2 in c:\\university\\nlp course\\mcqgen\\env\\lib\\site-packages (from aiohttp<4.0.0,>=3.8.3->langchain_community) (1.3.1)\n",
      "Requirement already satisfied: attrs>=17.3.0 in c:\\university\\nlp course\\mcqgen\\env\\lib\\site-packages (from aiohttp<4.0.0,>=3.8.3->langchain_community) (24.2.0)\n",
      "Requirement already satisfied: frozenlist>=1.1.1 in c:\\university\\nlp course\\mcqgen\\env\\lib\\site-packages (from aiohttp<4.0.0,>=3.8.3->langchain_community) (1.5.0)\n",
      "Requirement already satisfied: multidict<7.0,>=4.5 in c:\\university\\nlp course\\mcqgen\\env\\lib\\site-packages (from aiohttp<4.0.0,>=3.8.3->langchain_community) (6.1.0)\n",
      "Requirement already satisfied: yarl<2.0,>=1.12.0 in c:\\university\\nlp course\\mcqgen\\env\\lib\\site-packages (from aiohttp<4.0.0,>=3.8.3->langchain_community) (1.15.2)\n",
      "Requirement already satisfied: async-timeout<6.0,>=4.0 in c:\\university\\nlp course\\mcqgen\\env\\lib\\site-packages (from aiohttp<4.0.0,>=3.8.3->langchain_community) (4.0.3)\n",
      "Requirement already satisfied: marshmallow<4.0.0,>=3.18.0 in c:\\university\\nlp course\\mcqgen\\env\\lib\\site-packages (from dataclasses-json<0.7,>=0.5.7->langchain_community) (3.22.0)\n",
      "Requirement already satisfied: typing-inspect<1,>=0.4.0 in c:\\university\\nlp course\\mcqgen\\env\\lib\\site-packages (from dataclasses-json<0.7,>=0.5.7->langchain_community) (0.9.0)\n",
      "Requirement already satisfied: langchain-text-splitters<0.3.0,>=0.2.0 in c:\\university\\nlp course\\mcqgen\\env\\lib\\site-packages (from langchain<0.3.0,>=0.2.17->langchain_community) (0.2.4)\n",
      "Requirement already satisfied: pydantic<3,>=1 in c:\\university\\nlp course\\mcqgen\\env\\lib\\site-packages (from langchain<0.3.0,>=0.2.17->langchain_community) (2.10.3)\n",
      "Requirement already satisfied: jsonpatch<2.0,>=1.33 in c:\\university\\nlp course\\mcqgen\\env\\lib\\site-packages (from langchain-core<0.3.0,>=0.2.43->langchain_community) (1.33)\n",
      "Requirement already satisfied: packaging<25,>=23.2 in c:\\university\\nlp course\\mcqgen\\env\\lib\\site-packages (from langchain-core<0.3.0,>=0.2.43->langchain_community) (24.1)\n",
      "Requirement already satisfied: typing-extensions>=4.7 in c:\\university\\nlp course\\mcqgen\\env\\lib\\site-packages (from langchain-core<0.3.0,>=0.2.43->langchain_community) (4.12.2)\n",
      "Requirement already satisfied: httpx<1,>=0.23.0 in c:\\university\\nlp course\\mcqgen\\env\\lib\\site-packages (from langsmith<0.2.0,>=0.1.112->langchain_community) (0.28.0)\n",
      "Requirement already satisfied: orjson<4.0.0,>=3.9.14 in c:\\university\\nlp course\\mcqgen\\env\\lib\\site-packages (from langsmith<0.2.0,>=0.1.112->langchain_community) (3.10.12)\n",
      "Requirement already satisfied: requests-toolbelt<2.0.0,>=1.0.0 in c:\\university\\nlp course\\mcqgen\\env\\lib\\site-packages (from langsmith<0.2.0,>=0.1.112->langchain_community) (1.0.0)\n",
      "Requirement already satisfied: charset-normalizer<4,>=2 in c:\\university\\nlp course\\mcqgen\\env\\lib\\site-packages (from requests<3,>=2->langchain_community) (3.4.0)\n",
      "Requirement already satisfied: idna<4,>=2.5 in c:\\university\\nlp course\\mcqgen\\env\\lib\\site-packages (from requests<3,>=2->langchain_community) (3.10)\n",
      "Requirement already satisfied: urllib3<3,>=1.21.1 in c:\\university\\nlp course\\mcqgen\\env\\lib\\site-packages (from requests<3,>=2->langchain_community) (2.2.3)\n",
      "Requirement already satisfied: certifi>=2017.4.17 in c:\\university\\nlp course\\mcqgen\\env\\lib\\site-packages (from requests<3,>=2->langchain_community) (2024.8.30)\n",
      "Requirement already satisfied: greenlet!=0.4.17 in c:\\university\\nlp course\\mcqgen\\env\\lib\\site-packages (from SQLAlchemy<3,>=1.4->langchain_community) (3.1.1)\n",
      "Requirement already satisfied: anyio in c:\\university\\nlp course\\mcqgen\\env\\lib\\site-packages (from httpx<1,>=0.23.0->langsmith<0.2.0,>=0.1.112->langchain_community) (4.5.2)\n",
      "Requirement already satisfied: httpcore==1.* in c:\\university\\nlp course\\mcqgen\\env\\lib\\site-packages (from httpx<1,>=0.23.0->langsmith<0.2.0,>=0.1.112->langchain_community) (1.0.7)\n",
      "Requirement already satisfied: h11<0.15,>=0.13 in c:\\university\\nlp course\\mcqgen\\env\\lib\\site-packages (from httpcore==1.*->httpx<1,>=0.23.0->langsmith<0.2.0,>=0.1.112->langchain_community) (0.14.0)\n",
      "Requirement already satisfied: jsonpointer>=1.9 in c:\\university\\nlp course\\mcqgen\\env\\lib\\site-packages (from jsonpatch<2.0,>=1.33->langchain-core<0.3.0,>=0.2.43->langchain_community) (3.0.0)\n",
      "Requirement already satisfied: annotated-types>=0.6.0 in c:\\university\\nlp course\\mcqgen\\env\\lib\\site-packages (from pydantic<3,>=1->langchain<0.3.0,>=0.2.17->langchain_community) (0.7.0)\n",
      "Requirement already satisfied: pydantic-core==2.27.1 in c:\\university\\nlp course\\mcqgen\\env\\lib\\site-packages (from pydantic<3,>=1->langchain<0.3.0,>=0.2.17->langchain_community) (2.27.1)\n",
      "Requirement already satisfied: mypy-extensions>=0.3.0 in c:\\university\\nlp course\\mcqgen\\env\\lib\\site-packages (from typing-inspect<1,>=0.4.0->dataclasses-json<0.7,>=0.5.7->langchain_community) (1.0.0)\n",
      "Requirement already satisfied: propcache>=0.2.0 in c:\\university\\nlp course\\mcqgen\\env\\lib\\site-packages (from yarl<2.0,>=1.12.0->aiohttp<4.0.0,>=3.8.3->langchain_community) (0.2.0)\n",
      "Requirement already satisfied: sniffio>=1.1 in c:\\university\\nlp course\\mcqgen\\env\\lib\\site-packages (from anyio->httpx<1,>=0.23.0->langsmith<0.2.0,>=0.1.112->langchain_community) (1.3.1)\n",
      "Requirement already satisfied: exceptiongroup>=1.0.2 in c:\\university\\nlp course\\mcqgen\\env\\lib\\site-packages (from anyio->httpx<1,>=0.23.0->langsmith<0.2.0,>=0.1.112->langchain_community) (1.2.2)\n"
     ]
    }
   ],
   "source": [
    "!pip install langchain_community"
   ]
  },
  {
   "cell_type": "code",
   "execution_count": 4,
   "metadata": {},
   "outputs": [],
   "source": [
    "from langchain.chat_models import ChatOpenAI"
   ]
  },
  {
   "cell_type": "code",
   "execution_count": 5,
   "metadata": {},
   "outputs": [
    {
     "data": {
      "text/plain": [
       "True"
      ]
     },
     "execution_count": 5,
     "metadata": {},
     "output_type": "execute_result"
    }
   ],
   "source": [
    "from dotenv import load_dotenv\n",
    "load_dotenv()"
   ]
  },
  {
   "cell_type": "code",
   "execution_count": 6,
   "metadata": {},
   "outputs": [],
   "source": [
    "key = os.getenv(\"OPENAI_API_KEY\")"
   ]
  },
  {
   "cell_type": "code",
   "execution_count": 7,
   "metadata": {},
   "outputs": [
    {
     "name": "stderr",
     "output_type": "stream",
     "text": [
      "C:\\Users\\TECHNICAL\\AppData\\Local\\Temp\\ipykernel_16440\\3665561483.py:1: LangChainDeprecationWarning: The class `ChatOpenAI` was deprecated in LangChain 0.0.10 and will be removed in 1.0. An updated version of the class exists in the langchain-openai package and should be used instead. To use it run `pip install -U langchain-openai` and import as `from langchain_openai import ChatOpenAI`.\n",
      "  llm = ChatOpenAI(openai_api_key = key,model_name= 'gpt-3.5-turbo' , temperature = 1)\n"
     ]
    }
   ],
   "source": [
    "llm = ChatOpenAI(openai_api_key = key,model_name= 'gpt-3.5-turbo' , temperature = 1)"
   ]
  },
  {
   "cell_type": "code",
   "execution_count": null,
   "metadata": {},
   "outputs": [],
   "source": [
    "prompt1 = '''\n",
    "You Are a helpful assistant, you are tasked to make an MCQ {exam} exam, you have to make it like this form\\n{form}\\n forming {questions} questions with level of difficulty of easy and the 2 last hard questions from this resource {text}\n",
    "'''"
   ]
  },
  {
   "cell_type": "code",
   "execution_count": 13,
   "metadata": {},
   "outputs": [
    {
     "name": "stderr",
     "output_type": "stream",
     "text": [
      "C:\\Users\\TECHNICAL\\AppData\\Local\\Temp\\ipykernel_16440\\2353228756.py:5: LangChainDeprecationWarning: The class `LLMChain` was deprecated in LangChain 0.1.17 and will be removed in 1.0. Use RunnableSequence, e.g., `prompt | llm` instead.\n",
      "  chain1=LLMChain(llm=llm,prompt=temp1, output_key=\"quiz\")\n"
     ]
    }
   ],
   "source": [
    "temp1 = PromptTemplate(\n",
    "    input_variable =['exam' , 'form' , 'questions' , 'text'],\n",
    "    template = prompt1\n",
    ")\n",
    "chain1=LLMChain(llm=llm,prompt=temp1, output_key=\"quiz\")"
   ]
  },
  {
   "cell_type": "code",
   "execution_count": 15,
   "metadata": {},
   "outputs": [],
   "source": [
    "temp2 = PromptTemplate(\n",
    "    input_variable = 'quiz',\n",
    "    template = 'You are good question answerer for this quiz\\n{quiz} give me the answers in bulleted list\\n'\n",
    ")\n",
    "chain2=LLMChain(llm=llm,prompt=temp2, output_key=\"Answers\") "
   ]
  },
  {
   "cell_type": "code",
   "execution_count": 16,
   "metadata": {},
   "outputs": [],
   "source": [
    "chain3=SequentialChain(chains=[chain1, chain2],\n",
    "    input_variables = ['exam' , 'form' , 'questions' , 'text'],\n",
    "    output_variables=[\"quiz\",\"Answers\"]\n",
    ")"
   ]
  },
  {
   "cell_type": "code",
   "execution_count": 39,
   "metadata": {},
   "outputs": [],
   "source": [
    "form = '''\n",
    "1)question here:\\n\n",
    "a)first option\\n\n",
    "b)second option\\n\n",
    "c)third option\\n\n",
    "d)forth option\\n\n",
    "\\n\n",
    "2)question here:\\n\n",
    "a)first option\\n\n",
    "b)second option\\n\n",
    "c)third option\\n\n",
    "d)forth option\\n\n",
    "'''"
   ]
  },
  {
   "cell_type": "code",
   "execution_count": 47,
   "metadata": {},
   "outputs": [],
   "source": [
    "with open(r\"C:\\University\\NLP Course\\mcqGen\\text.txt\" , 'r') as file:\n",
    "    text = file.read()"
   ]
  },
  {
   "cell_type": "code",
   "execution_count": 50,
   "metadata": {},
   "outputs": [],
   "source": [
    "r = chain3({\"exam\":\"Machine learning\" , \"form\":form ,\"questions\":10,\"text\":text })"
   ]
  },
  {
   "cell_type": "code",
   "execution_count": 54,
   "metadata": {},
   "outputs": [],
   "source": [
    "with get_openai_callback() as cb:\n",
    "    response = chain3(\n",
    "        {\n",
    "            \"exam\":\"Machine learning\" , \n",
    "            \"form\":form ,\n",
    "            \"questions\":10,\n",
    "            \"text\":text\n",
    "\n",
    "        }\n",
    "\n",
    "\n",
    "    )"
   ]
  },
  {
   "cell_type": "code",
   "execution_count": 56,
   "metadata": {},
   "outputs": [
    {
     "data": {
      "text/plain": [
       "{'exam': 'Machine learning',\n",
       " 'form': '\\n1)question here:\\n\\na)first option\\n\\nb)second option\\n\\nc)third option\\n\\nd)forth option\\n\\n\\n\\n2)question here:\\n\\na)first option\\n\\nb)second option\\n\\nc)third option\\n\\nd)forth option\\n\\n',\n",
       " 'questions': 10,\n",
       " 'text': \"Machine Learning, often abbreviated as ML, is a subset of artificial intelligence (AI) that focuses on the development of computer algorithms that improve automatically through experience and by the use of data. In simpler terms, machine learning enables computers to learn from data and make decisions or predictions without being explicitly programmed to do so.\\n\\nAt its core, machine learning is all about creating and implementing algorithms that facilitate these decisions and predictions. These algorithms are designed to improve their performance over time, becoming more accurate and effective as they process more data.\\n\\nIn traditional programming, a computer follows a set of predefined instructions to perform a task. However, in machine learning, the computer is given a set of examples (data) and a task to perform, but it's up to the computer to figure out how to accomplish the task based on the examples it's given.\\n\\nFor instance, if we want a computer to recognize images of cats, we don't provide it with specific instructions on what a cat looks like. Instead, we give it thousands of images of cats and let the machine learning algorithm figure out the common patterns and features that define a cat. Over time, as the algorithm processes more images, it gets better at recognizing cats, even when presented with images it has never seen before.\\n\\nThis ability to learn from data and improve over time makes machine learning incredibly powerful and versatile. It's the driving force behind many of the technological advancements we see today, from voice assistants and recommendation systems to self-driving cars and predictive analytics.\\n\\nMachine learning vs AI vs deep learning\\nMachine learning is often confused with artificial intelligence or deep learning. Let's take a look at how these terms differ from one another. For a more in-depth look, check out our comparison guides on AI vs machine learning and machine learning vs deep learning. \\n\\nAI refers to the development of programs that behave intelligently and mimic human intelligence through a set of algorithms. The field focuses on three skills: learning, reasoning, and self-correction to obtain maximum efficiency. AI can refer to either machine learning-based programs or even explicitly programmed computer programs.\\n\\nMachine learning is a subset of AI, which uses algorithms that learn from data to make predictions. These predictions can be generated through supervised learning, where algorithms learn patterns from existing data, or unsupervised learning, where they discover general patterns in data. ML models can predict numerical values based on historical data, categorize events as true or false, and cluster data points based on commonalities.\\n\\nDeep learning, on the other hand, is a subfield of machine learning dealing with algorithms based essentially on multi-layered artificial neural networks (ANN) that are inspired by the structure of the human brain.\\n\\nUnlike conventional machine learning algorithms, deep learning algorithms are less linear, more complex, and hierarchical, capable of learning from enormous amounts of data, and able to produce highly accurate results. Language translation, image recognition, and personalized medicines are some examples of deep learning applications.\\nIn the 21st century, data is the new oil, and machine learning is the engine that powers this data-driven world. It is a critical technology in today's digital age, and its importance cannot be overstated. This is reflected in the industry's projected growth, with the US Bureau of Labor Statistics predicting a 26% growth in jobs between 2023 and 2033.\\n\\nHere are some reasons why it’s so essential in the modern world:\\n\\nData processing. One of the primary reasons machine learning is so important is its ability to handle and make sense of large volumes of data. With the explosion of digital data from social media, sensors, and other sources, traditional data analysis methods have become inadequate. Machine learning algorithms can process these vast amounts of data, uncover hidden patterns, and provide valuable insights that can drive decision-making.\\nDriving innovation. Machine learning is driving innovation and efficiency across various sectors. Here are a few examples:\\nHealthcare. Algorithms are used to predict disease outbreaks, personalize patient treatment plans, and improve medical imaging accuracy.\\nFinance. Machine learning is used for credit scoring, algorithmic trading, and fraud detection.\\nRetail. Recommendation systems, supply chains, and customer service can all benefit from machine learning.\\nThe techniques used also find applications in sectors as diverse as agriculture, education, and entertainment.\\nEnabling automation. Machine learning is a key enabler of automation. By learning from data and improving over time, machine learning algorithms can perform previously manual tasks, freeing humans to focus on more complex and creative tasks. This not only increases efficiency but also opens up new possibilities for innovation.\",\n",
       " 'quiz': '1) Which of the following best describes machine learning?\\n\\na) The development of programs that behave intelligently and mimic human intelligence\\nb) The use of algorithms that learn from data to make predictions\\nc) The study of multi-layered artificial neural networks inspired by the human brain\\nd) The process of giving a computer specific instructions on how to perform a task\\n\\n2) What is the main goal of machine learning algorithms?\\n\\na) To follow a set of predefined instructions to perform a task\\nb) To uncover hidden patterns and provide valuable insights from data\\nc) To mimic human intelligence through a set of algorithms\\nd) To predict outcomes based on historical data\\n\\n3) How does machine learning differ from traditional programming?\\n\\na) Machine learning algorithms do not require data to function\\nb) Traditional programming involves learning from examples, while machine learning does not\\nc) Machine learning allows computers to learn and improve over time without explicit programming\\nd) Traditional programming focuses on data processing, while machine learning focuses on automation\\n\\n4) What is deep learning?\\n\\na) A subset of artificial intelligence that focuses on decision-making\\nb) A type of algorithm that learns patterns from existing data\\nc) A subfield of machine learning that uses multi-layered artificial neural networks\\nd) A technique used for making predictions in supervised learning\\n\\n5) What is the primary reason machine learning is important in the modern world?\\n\\na) To handle and make sense of large volumes of data\\nb) To mimic human intelligence through algorithms\\nc) To provide predetermined outcomes based on data\\nd) To perform manual tasks without data\\n\\n6) Which sector uses machine learning for predicting disease outbreaks and personalizing patient treatment plans?\\n\\na) Finance\\nb) Retail\\nc) Healthcare\\nd) Education\\n\\n7) How does machine learning drive innovation across various sectors?\\n\\na) By providing predetermined outcomes based on data\\nb) By mimicking human intelligence through algorithms\\nc) By improving efficiency and providing valuable insights from data\\nd) By automating complex tasks without the need for data\\n\\n8) Which technique used in machine learning has applications in diverse sectors such as agriculture, education, and entertainment?\\n\\na) Recommendation systems\\nb) Credit scoring\\nc) Algorithmic trading\\nd) Fraud detection\\n\\n9) What is one of the key benefits of machine learning in enabling automation?\\n\\na) Increasing human focus on manual tasks\\nb) Decreasing efficiency in tasks\\nc) Performing manual tasks without learning from data\\nd) Learning from data and improving over time to perform previously manual tasks\\n\\n10) What is the projected job growth for the industry related to machine learning between 2023 and 2033, according to the US Bureau of Labor Statistics?\\n\\na) 10%\\nb) 15%\\nc) 20%\\nd) 26%',\n",
       " 'Answers': '- 1) b) The use of algorithms that learn from data to make predictions\\n- 2) d) To predict outcomes based on historical data\\n- 3) c) Machine learning allows computers to learn and improve over time without explicit programming\\n- 4) c) A subfield of machine learning that uses multi-layered artificial neural networks\\n- 5) a) To handle and make sense of large volumes of data\\n- 6) c) Healthcare\\n- 7) c) By improving efficiency and providing valuable insights from data\\n- 8) a) Recommendation systems\\n- 9) d) Learning from data and improving over time to perform previously manual tasks\\n- 10) d) 26%'}"
      ]
     },
     "execution_count": 56,
     "metadata": {},
     "output_type": "execute_result"
    }
   ],
   "source": [
    "response"
   ]
  },
  {
   "cell_type": "code",
   "execution_count": 57,
   "metadata": {},
   "outputs": [
    {
     "name": "stdout",
     "output_type": "stream",
     "text": [
      "1) Which of the following best describes machine learning?\n",
      "\n",
      "a) The development of programs that behave intelligently and mimic human intelligence\n",
      "b) The use of algorithms that learn from data to make predictions\n",
      "c) The study of multi-layered artificial neural networks inspired by the human brain\n",
      "d) The process of giving a computer specific instructions on how to perform a task\n",
      "\n",
      "2) What is the main goal of machine learning algorithms?\n",
      "\n",
      "a) To follow a set of predefined instructions to perform a task\n",
      "b) To uncover hidden patterns and provide valuable insights from data\n",
      "c) To mimic human intelligence through a set of algorithms\n",
      "d) To predict outcomes based on historical data\n",
      "\n",
      "3) How does machine learning differ from traditional programming?\n",
      "\n",
      "a) Machine learning algorithms do not require data to function\n",
      "b) Traditional programming involves learning from examples, while machine learning does not\n",
      "c) Machine learning allows computers to learn and improve over time without explicit programming\n",
      "d) Traditional programming focuses on data processing, while machine learning focuses on automation\n",
      "\n",
      "4) What is deep learning?\n",
      "\n",
      "a) A subset of artificial intelligence that focuses on decision-making\n",
      "b) A type of algorithm that learns patterns from existing data\n",
      "c) A subfield of machine learning that uses multi-layered artificial neural networks\n",
      "d) A technique used for making predictions in supervised learning\n",
      "\n",
      "5) What is the primary reason machine learning is important in the modern world?\n",
      "\n",
      "a) To handle and make sense of large volumes of data\n",
      "b) To mimic human intelligence through algorithms\n",
      "c) To provide predetermined outcomes based on data\n",
      "d) To perform manual tasks without data\n",
      "\n",
      "6) Which sector uses machine learning for predicting disease outbreaks and personalizing patient treatment plans?\n",
      "\n",
      "a) Finance\n",
      "b) Retail\n",
      "c) Healthcare\n",
      "d) Education\n",
      "\n",
      "7) How does machine learning drive innovation across various sectors?\n",
      "\n",
      "a) By providing predetermined outcomes based on data\n",
      "b) By mimicking human intelligence through algorithms\n",
      "c) By improving efficiency and providing valuable insights from data\n",
      "d) By automating complex tasks without the need for data\n",
      "\n",
      "8) Which technique used in machine learning has applications in diverse sectors such as agriculture, education, and entertainment?\n",
      "\n",
      "a) Recommendation systems\n",
      "b) Credit scoring\n",
      "c) Algorithmic trading\n",
      "d) Fraud detection\n",
      "\n",
      "9) What is one of the key benefits of machine learning in enabling automation?\n",
      "\n",
      "a) Increasing human focus on manual tasks\n",
      "b) Decreasing efficiency in tasks\n",
      "c) Performing manual tasks without learning from data\n",
      "d) Learning from data and improving over time to perform previously manual tasks\n",
      "\n",
      "10) What is the projected job growth for the industry related to machine learning between 2023 and 2033, according to the US Bureau of Labor Statistics?\n",
      "\n",
      "a) 10%\n",
      "b) 15%\n",
      "c) 20%\n",
      "d) 26%\n"
     ]
    }
   ],
   "source": [
    "for i in response['quiz'].split('\\n'):\n",
    "    print(i)"
   ]
  },
  {
   "cell_type": "code",
   "execution_count": 58,
   "metadata": {},
   "outputs": [
    {
     "name": "stdout",
     "output_type": "stream",
     "text": [
      "- 1) b) The use of algorithms that learn from data to make predictions\n",
      "- 2) d) To predict outcomes based on historical data\n",
      "- 3) c) Machine learning allows computers to learn and improve over time without explicit programming\n",
      "- 4) c) A subfield of machine learning that uses multi-layered artificial neural networks\n",
      "- 5) a) To handle and make sense of large volumes of data\n",
      "- 6) c) Healthcare\n",
      "- 7) c) By improving efficiency and providing valuable insights from data\n",
      "- 8) a) Recommendation systems\n",
      "- 9) d) Learning from data and improving over time to perform previously manual tasks\n",
      "- 10) d) 26%\n"
     ]
    }
   ],
   "source": [
    "for i in response['Answers'].split('\\n'):\n",
    "    print(i)"
   ]
  },
  {
   "cell_type": "code",
   "execution_count": 59,
   "metadata": {},
   "outputs": [
    {
     "name": "stdout",
     "output_type": "stream",
     "text": [
      "Tokens Used: 2329\n",
      "\tPrompt Tokens: 1609\n",
      "\tCompletion Tokens: 720\n",
      "Successful Requests: 2\n",
      "Total Cost (USD): $0.0038535\n"
     ]
    }
   ],
   "source": [
    "print(cb)"
   ]
  },
  {
   "cell_type": "code",
   "execution_count": null,
   "metadata": {},
   "outputs": [],
   "source": []
  }
 ],
 "metadata": {
  "kernelspec": {
   "display_name": "Python 3",
   "language": "python",
   "name": "python3"
  },
  "language_info": {
   "codemirror_mode": {
    "name": "ipython",
    "version": 3
   },
   "file_extension": ".py",
   "mimetype": "text/x-python",
   "name": "python",
   "nbconvert_exporter": "python",
   "pygments_lexer": "ipython3",
   "version": "3.8.20"
  }
 },
 "nbformat": 4,
 "nbformat_minor": 2
}
